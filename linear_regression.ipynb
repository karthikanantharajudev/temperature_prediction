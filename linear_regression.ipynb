{
 "cells": [
  {
   "cell_type": "code",
   "execution_count": 2,
   "id": "527b0603",
   "metadata": {},
   "outputs": [],
   "source": [
    "from random import randint\n",
    "import pandas as pd\n",
    "import numpy as np\n",
    "import matplotlib.pyplot as plt\n",
    "from sklearn import linear_model"
   ]
  },
  {
   "cell_type": "markdown",
   "id": "335c9ea1",
   "metadata": {},
   "source": [
    "### Use pandas to read csv file"
   ]
  },
  {
   "cell_type": "code",
   "execution_count": 3,
   "id": "be7126b5",
   "metadata": {},
   "outputs": [],
   "source": [
    "weather = pd.read_csv('weather_data.csv')\n",
    "temperature_data_df = weather[['Humidity', 'Temperature (C)']]\n",
    "temperature_data_df.columns = ['humidity', 'temperature']"
   ]
  },
  {
   "cell_type": "code",
   "execution_count": 4,
   "id": "5899b495",
   "metadata": {},
   "outputs": [
    {
     "data": {
      "text/html": [
       "<div>\n",
       "<style scoped>\n",
       "    .dataframe tbody tr th:only-of-type {\n",
       "        vertical-align: middle;\n",
       "    }\n",
       "\n",
       "    .dataframe tbody tr th {\n",
       "        vertical-align: top;\n",
       "    }\n",
       "\n",
       "    .dataframe thead th {\n",
       "        text-align: right;\n",
       "    }\n",
       "</style>\n",
       "<table border=\"1\" class=\"dataframe\">\n",
       "  <thead>\n",
       "    <tr style=\"text-align: right;\">\n",
       "      <th></th>\n",
       "      <th>humidity</th>\n",
       "      <th>temperature</th>\n",
       "    </tr>\n",
       "  </thead>\n",
       "  <tbody>\n",
       "    <tr>\n",
       "      <th>0</th>\n",
       "      <td>0.89</td>\n",
       "      <td>9.472222</td>\n",
       "    </tr>\n",
       "    <tr>\n",
       "      <th>1</th>\n",
       "      <td>0.86</td>\n",
       "      <td>9.355556</td>\n",
       "    </tr>\n",
       "    <tr>\n",
       "      <th>2</th>\n",
       "      <td>0.89</td>\n",
       "      <td>9.377778</td>\n",
       "    </tr>\n",
       "    <tr>\n",
       "      <th>3</th>\n",
       "      <td>0.83</td>\n",
       "      <td>8.288889</td>\n",
       "    </tr>\n",
       "    <tr>\n",
       "      <th>4</th>\n",
       "      <td>0.83</td>\n",
       "      <td>8.755556</td>\n",
       "    </tr>\n",
       "    <tr>\n",
       "      <th>5</th>\n",
       "      <td>0.85</td>\n",
       "      <td>9.222222</td>\n",
       "    </tr>\n",
       "    <tr>\n",
       "      <th>6</th>\n",
       "      <td>0.95</td>\n",
       "      <td>7.733333</td>\n",
       "    </tr>\n",
       "    <tr>\n",
       "      <th>7</th>\n",
       "      <td>0.89</td>\n",
       "      <td>8.772222</td>\n",
       "    </tr>\n",
       "    <tr>\n",
       "      <th>8</th>\n",
       "      <td>0.82</td>\n",
       "      <td>10.822222</td>\n",
       "    </tr>\n",
       "  </tbody>\n",
       "</table>\n",
       "</div>"
      ],
      "text/plain": [
       "   humidity  temperature\n",
       "0      0.89     9.472222\n",
       "1      0.86     9.355556\n",
       "2      0.89     9.377778\n",
       "3      0.83     8.288889\n",
       "4      0.83     8.755556\n",
       "5      0.85     9.222222\n",
       "6      0.95     7.733333\n",
       "7      0.89     8.772222\n",
       "8      0.82    10.822222"
      ]
     },
     "execution_count": 4,
     "metadata": {},
     "output_type": "execute_result"
    }
   ],
   "source": [
    "temperature_data_df.head(9)"
   ]
  },
  {
   "cell_type": "markdown",
   "id": "5280d908",
   "metadata": {},
   "source": [
    "#### Splitting data into train and test sets"
   ]
  },
  {
   "cell_type": "code",
   "execution_count": 5,
   "id": "4816cedf",
   "metadata": {},
   "outputs": [],
   "source": [
    "random_sample_divider = randint(6500, 7000)"
   ]
  },
  {
   "cell_type": "code",
   "execution_count": 6,
   "id": "3a912dce",
   "metadata": {},
   "outputs": [],
   "source": [
    "train_x, test_x = np.asanyarray(temperature_data_df[['humidity']][:random_sample_divider]), np.asanyarray(temperature_data_df[['humidity']][random_sample_divider:])\n",
    "train_y, test_y = np.asanyarray(temperature_data_df[['temperature']][:random_sample_divider]), np.asanyarray(temperature_data_df[['temperature']][random_sample_divider:])"
   ]
  },
  {
   "cell_type": "markdown",
   "id": "7276a4c0",
   "metadata": {},
   "source": [
    "#### Using sklearn LinearRegression model to generate coefficients and intercept"
   ]
  },
  {
   "cell_type": "code",
   "execution_count": 7,
   "id": "b4573242",
   "metadata": {},
   "outputs": [
    {
     "name": "stdout",
     "output_type": "stream",
     "text": [
      "Coeffiecint: [[-33.92548113]]\n",
      "Intercept: [36.89103435]\n"
     ]
    }
   ],
   "source": [
    "lin_model = linear_model.LinearRegression()\n",
    "lin_model.fit(train_x, train_y)\n",
    "print('Coeffiecint:', lin_model.coef_)\n",
    "print('Intercept:', lin_model.intercept_)"
   ]
  },
  {
   "cell_type": "code",
   "execution_count": 8,
   "id": "fb995c4d",
   "metadata": {},
   "outputs": [],
   "source": [
    "def get_y(x):\n",
    "    return lin_model.coef_[0][0]*x + lin_model.intercept_[0]"
   ]
  },
  {
   "cell_type": "code",
   "execution_count": 9,
   "id": "c4308d03",
   "metadata": {},
   "outputs": [],
   "source": [
    "def print_fit_line():\n",
    "    plt.scatter(train_x, train_y)\n",
    "    plt.plot(train_x, get_y(train_x), '-r')\n",
    "    plt.xlabel('Humidity')\n",
    "    plt.ylabel('Temperature')"
   ]
  },
  {
   "cell_type": "code",
   "execution_count": 10,
   "id": "59f15d78",
   "metadata": {},
   "outputs": [
    {
     "data": {
      "image/png": "[encoded data removed]",
      "text/plain": [
       "<Figure size 432x288 with 1 Axes>"
      ]
     },
     "metadata": {
      "needs_background": "light"
     },
     "output_type": "display_data"
    }
   ],
   "source": [
    "print_fit_line()"
   ]
  },
  {
   "cell_type": "markdown",
   "id": "0b9bf9b0",
   "metadata": {},
   "source": [
    "#### Using trained linear model to predict temperature on test data"
   ]
  },
  {
   "cell_type": "code",
   "execution_count": 11,
   "id": "62ccf2b5",
   "metadata": {},
   "outputs": [],
   "source": [
    "test_y_pred = lin_model.predict(test_x)"
   ]
  },
  {
   "cell_type": "code",
   "execution_count": 12,
   "id": "6c1eeb23",
   "metadata": {},
   "outputs": [],
   "source": [
    "def get_cost(test_y, test_y_pred):\n",
    "    d_sq = (test_y_pred - test_y)**2\n",
    "    r_mean = np.sqrt(np.mean(d_sq))\n",
    "    return r_mean"
   ]
  },
  {
   "cell_type": "markdown",
   "id": "c448a9bd",
   "metadata": {},
   "source": [
    "#### Calculating cost of the linear model using existing test data and predicted test data"
   ]
  },
  {
   "cell_type": "code",
   "execution_count": 14,
   "id": "ea2bfac5",
   "metadata": {},
   "outputs": [
    {
     "name": "stdout",
     "output_type": "stream",
     "text": [
      "6.3602269580939454\n"
     ]
    }
   ],
   "source": [
    "cost = get_cost(test_y_pred, test_y)\n",
    "print(cost)"
   ]
  }
 ],
 "metadata": {
  "kernelspec": {
   "display_name": "Python 3 (ipykernel)",
   "language": "python",
   "name": "python3"
  },
  "language_info": {
   "codemirror_mode": {
    "name": "ipython",
    "version": 3
   },
   "file_extension": ".py",
   "mimetype": "text/x-python",
   "name": "python",
   "nbconvert_exporter": "python",
   "pygments_lexer": "ipython3",
   "version": "3.9.7"
  }
 },
 "nbformat": 4,
 "nbformat_minor": 5
}
